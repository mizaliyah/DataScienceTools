{
 "cells": [
  {
   "cell_type": "markdown",
   "id": "305b0bf5",
   "metadata": {},
   "source": [
    "# Data Science Tools and Ecosystem"
   ]
  },
  {
   "cell_type": "markdown",
   "id": "efdf1ccf",
   "metadata": {},
   "source": [
    "## Author\n",
    "Miza Aliyah"
   ]
  },
  {
   "cell_type": "markdown",
   "id": "bc36bcd9",
   "metadata": {},
   "source": [
    "#### In this notebook, you will find a summary of the tools of Data Science and its Ecosystem."
   ]
  },
  {
   "cell_type": "markdown",
   "id": "8afddee9",
   "metadata": {},
   "source": [
    "#### **Objectives:**\n",
    "- List popular languages in Data Science.\n",
    "- List commonly used libraries used by Data Scientists.\n",
    "- Demonstrate ability to make a variety of headlines.\n",
    "- Demonstrate ability to create tables.\n",
    "- Demonstrate ability to customise texts using bold, itallic, etc.\n",
    "- Demonstrate ability to run simple arithmetic equations.\n",
    "- Demonstrate ability to type some comments in a code."
   ]
  },
  {
   "cell_type": "markdown",
   "id": "9830540c",
   "metadata": {},
   "source": [
    "Some of the _popular_ languages that Data Scientists use are:\n",
    "1. Python\n",
    "2. R\n",
    "3. SQL\n",
    "4. Julia\n",
    "5. MATLAB"
   ]
  },
  {
   "cell_type": "markdown",
   "id": "43b1ae83",
   "metadata": {},
   "source": [
    "Some of the commonly used libraries used by Data Scientists include:\n",
    "1. pandas\n",
    "2. NumPy\n",
    "3. PyTorch\n",
    "4. TensorFlow\n",
    "5. scikit-learn"
   ]
  },
  {
   "cell_type": "markdown",
   "id": "b0c13210",
   "metadata": {},
   "source": [
    "| Data Science Tools |\n",
    "| ----- |\n",
    "| Jupyter Notebook |\n",
    "| RStudio |\n",
    "| Anaconda |"
   ]
  },
  {
   "cell_type": "markdown",
   "id": "831f7d8b",
   "metadata": {},
   "source": [
    "### Below are a few examples of evaluating arithmetic expressions in Python"
   ]
  },
  {
   "cell_type": "code",
   "execution_count": 9,
   "id": "3ea1f3c6",
   "metadata": {},
   "outputs": [
    {
     "data": {
      "text/plain": [
       "17"
      ]
     },
     "execution_count": 9,
     "metadata": {},
     "output_type": "execute_result"
    }
   ],
   "source": [
    "# This is a simple arithmetic equation that uses multiplication and addition.\n",
    "(3*4)+5"
   ]
  },
  {
   "cell_type": "code",
   "execution_count": 10,
   "id": "5da703b5",
   "metadata": {},
   "outputs": [
    {
     "data": {
      "text/plain": [
       "3.3333333333333335"
      ]
     },
     "execution_count": 10,
     "metadata": {},
     "output_type": "execute_result"
    }
   ],
   "source": [
    "# This will convert 200 minutes to hours by diving by 60\n",
    "200/60"
   ]
  },
  {
   "cell_type": "code",
   "execution_count": null,
   "id": "da8da514",
   "metadata": {},
   "outputs": [],
   "source": []
  }
 ],
 "metadata": {
  "kernelspec": {
   "display_name": "Python 3 (ipykernel)",
   "language": "python",
   "name": "python3"
  },
  "language_info": {
   "codemirror_mode": {
    "name": "ipython",
    "version": 3
   },
   "file_extension": ".py",
   "mimetype": "text/x-python",
   "name": "python",
   "nbconvert_exporter": "python",
   "pygments_lexer": "ipython3",
   "version": "3.11.4"
  }
 },
 "nbformat": 4,
 "nbformat_minor": 5
}
